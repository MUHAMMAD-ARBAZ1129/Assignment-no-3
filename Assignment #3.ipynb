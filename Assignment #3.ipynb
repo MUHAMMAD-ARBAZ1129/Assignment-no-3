{
 "cells": [
  {
   "cell_type": "markdown",
   "metadata": {},
   "source": [
    "Question # 1 Python Program to Add a Key-Value Pair to the Dictionary"
   ]
  },
  {
   "cell_type": "code",
   "execution_count": 1,
   "metadata": {},
   "outputs": [
    {
     "name": "stdout",
     "output_type": "stream",
     "text": [
      "enter the key to added:12\n",
      "value for key2\n",
      "updated dict is:\n",
      "{12: 2}\n"
     ]
    }
   ],
   "source": [
    "x=int(input(\"enter the key to added:\"))\n",
    "y=int(input(\"value for key\"))\n",
    "# Declare a dictionary and initialize it to an empty dictionary\n",
    "d={}\n",
    "#update function\n",
    "d.update({x:y})\n",
    "print(\"updated dict is:\")\n",
    "print(d)"
   ]
  },
  {
   "cell_type": "markdown",
   "metadata": {},
   "source": [
    "Question # 2 Python Program to Concatenate Two Dictionaries Into One "
   ]
  },
  {
   "cell_type": "code",
   "execution_count": 2,
   "metadata": {},
   "outputs": [
    {
     "name": "stdout",
     "output_type": "stream",
     "text": [
      "{'b:3', 'a:2', 'c:4'}\n"
     ]
    }
   ],
   "source": [
    "key={\"a:2\",\"b:3\"}\n",
    "value={\"c:4\"}\n",
    "key.update(value)#update function\n",
    "print(key)"
   ]
  },
  {
   "cell_type": "markdown",
   "metadata": {},
   "source": [
    "Question # 3 Python Program to Check if a Given Key Exists in a Dictionary or Not "
   ]
  },
  {
   "cell_type": "code",
   "execution_count": 4,
   "metadata": {},
   "outputs": [
    {
     "name": "stdout",
     "output_type": "stream",
     "text": [
      "enter the valuea\n",
      "value is present:\n",
      "4\n"
     ]
    }
   ],
   "source": [
    "d={'a':4,'b':5}\n",
    "key=input(\"enter the value\")\n",
    "if key in d.keys():\n",
    "    print(\"value is present:\")\n",
    "    print(d[key])\n",
    "else:\n",
    "    print(\"value is not present\")\n"
   ]
  },
  {
   "cell_type": "markdown",
   "metadata": {},
   "source": [
    "Question # 4 Python Program to Generate a Dictionary that Contains Numbers (between 1 and n) in the Form (x,x*x)."
   ]
  },
  {
   "cell_type": "code",
   "execution_count": 5,
   "metadata": {},
   "outputs": [
    {
     "name": "stdout",
     "output_type": "stream",
     "text": [
      "Enter a value5\n",
      "{1: 1, 2: 4, 3: 9, 4: 16, 5: 25}\n"
     ]
    }
   ],
   "source": [
    "n=int(input(\"Enter a value\"))\n",
    "d={x:x*x for x in range(1,n+1)}\n",
    "print(d)"
   ]
  },
  {
   "cell_type": "markdown",
   "metadata": {},
   "source": [
    "Question # 5 Python Program to Sum All the Items in a Dictionary "
   ]
  },
  {
   "cell_type": "code",
   "execution_count": 6,
   "metadata": {},
   "outputs": [
    {
     "name": "stdout",
     "output_type": "stream",
     "text": [
      "total of value is:\n",
      "112\n"
     ]
    }
   ],
   "source": [
    "x={\"a\":78,\"b\":34}\n",
    "print(\"total of value is:\")\n",
    "d=sum(x.values())\n",
    "print(d)"
   ]
  },
  {
   "cell_type": "markdown",
   "metadata": {},
   "source": [
    "Question # 6 Python Program to Multiply All the Items in a Dictionary "
   ]
  },
  {
   "cell_type": "code",
   "execution_count": 7,
   "metadata": {},
   "outputs": [
    {
     "name": "stdout",
     "output_type": "stream",
     "text": [
      "8\n"
     ]
    }
   ],
   "source": [
    "x={\"a\":2,\"b\":4}\n",
    "total=1\n",
    "for i in x:\n",
    "    total=total*x[i]\n",
    "print(total)"
   ]
  },
  {
   "cell_type": "markdown",
   "metadata": {},
   "source": [
    "Question # 7 Python Program to Remove the Given Key from a Dictionary"
   ]
  },
  {
   "cell_type": "code",
   "execution_count": 8,
   "metadata": {},
   "outputs": [
    {
     "name": "stdout",
     "output_type": "stream",
     "text": [
      "dictionary we have\n",
      "{'a': 2, 'b': 3, 'c': 4}\n",
      "enter key:b\n",
      "updated dictionary\n",
      "{'a': 2, 'c': 4}\n"
     ]
    }
   ],
   "source": [
    "x={\"a\":2,\"b\":3,\"c\":4}\n",
    "print(\"dictionary we have\")\n",
    "print(x)\n",
    "key=input(\"enter key:\")\n",
    "if key in x:\n",
    "    del x[key]\n",
    "else:\n",
    "    print(\"key not found\")\n",
    "    exit(0)\n",
    "print(\"updated dictionary\")\n",
    "print(x)\n"
   ]
  },
  {
   "cell_type": "markdown",
   "metadata": {},
   "source": [
    "Question # 8 Python Program to Map Two Lists into a Dictionary "
   ]
  },
  {
   "cell_type": "code",
   "execution_count": 9,
   "metadata": {},
   "outputs": [
    {
     "name": "stdout",
     "output_type": "stream",
     "text": [
      "Enter number of elements for dictionary:2\n",
      "For keys:\n",
      "Enter element1:3\n",
      "Enter element2:4\n",
      "For values:\n",
      "Enter element1:5\n",
      "Enter element2:6\n",
      "The dictionary is:\n",
      "{3: 5, 4: 6}\n"
     ]
    }
   ],
   "source": [
    "keys=[]\n",
    "values=[]\n",
    "n=int(input(\"Enter number of elements for dictionary:\"))\n",
    "print(\"For keys:\")\n",
    "for x in range(0,n):\n",
    "    element=int(input(\"Enter element\" + str(x+1) + \":\"))\n",
    "    keys.append(element)\n",
    "print(\"For values:\")\n",
    "for x in range(0,n):\n",
    "    element=int(input(\"Enter element\" + str(x+1) + \":\"))\n",
    "    values.append(element)\n",
    "d=dict(zip(keys,values))\n",
    "print(\"The dictionary is:\")\n",
    "print(d)"
   ]
  },
  {
   "cell_type": "markdown",
   "metadata": {},
   "source": [
    "Question # 9 Python Program to Count the Frequency of Words Appearing in a String Using a Dictionary. "
   ]
  },
  {
   "cell_type": "code",
   "execution_count": 10,
   "metadata": {},
   "outputs": [
    {
     "name": "stdout",
     "output_type": "stream",
     "text": [
      "Enter string:My name is Arbaz\n",
      "{'My': 1, 'name': 1, 'is': 1, 'Arbaz': 1}\n"
     ]
    }
   ],
   "source": [
    "x=input(\"Enter string:\")\n",
    "l=[]\n",
    "l=x.split()\n",
    "wordfreq=[l.count(p) for p in l]\n",
    "print(dict(zip(l,wordfreq)))"
   ]
  },
  {
   "cell_type": "markdown",
   "metadata": {},
   "source": [
    "Question # 10 Python Program to Create a Dictionary with Key as First Character and Value as Words Starting with that Character. "
   ]
  },
  {
   "cell_type": "code",
   "execution_count": 11,
   "metadata": {},
   "outputs": [
    {
     "name": "stdout",
     "output_type": "stream",
     "text": [
      "Enter string:My name is Arbaz\n",
      "M : ['My']\n",
      "n : ['name']\n",
      "i : ['is']\n",
      "A : ['Arbaz']\n"
     ]
    }
   ],
   "source": [
    "test=input(\"Enter string:\")\n",
    "l=test.split()\n",
    "d={}\n",
    "for word in l:\n",
    "    if(word[0] not in d.keys()):\n",
    "        d[word[0]]=[]\n",
    "        d[word[0]].append(word)\n",
    "    else:\n",
    "        if(word not in d[word[0]]):\n",
    "          d[word[0]].append(word)\n",
    "for k,v in d.items():\n",
    "        print(k,\":\",v)\n"
   ]
  },
  {
   "cell_type": "code",
   "execution_count": null,
   "metadata": {},
   "outputs": [],
   "source": []
  }
 ],
 "metadata": {
  "kernelspec": {
   "display_name": "Python 3",
   "language": "python",
   "name": "python3"
  },
  "language_info": {
   "codemirror_mode": {
    "name": "ipython",
    "version": 3
   },
   "file_extension": ".py",
   "mimetype": "text/x-python",
   "name": "python",
   "nbconvert_exporter": "python",
   "pygments_lexer": "ipython3",
   "version": "3.7.3"
  }
 },
 "nbformat": 4,
 "nbformat_minor": 2
}
